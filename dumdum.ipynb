{
 "cells": [
  {
   "cell_type": "code",
   "execution_count": 1,
   "metadata": {},
   "outputs": [],
   "source": [
    "%load_ext autoreload\n",
    "%autoreload 2"
   ]
  },
  {
   "cell_type": "code",
   "execution_count": 2,
   "metadata": {},
   "outputs": [
    {
     "name": "stdout",
     "output_type": "stream",
     "text": [
      "Warning: logging configuration file is not found in /home/dzhunk/University/dl-audio/hifi-gan/hw_asr/logger/logger_config.json.\n"
     ]
    }
   ],
   "source": [
    "from src.utils.parse_config import ConfigParser\n",
    "import json\n",
    "\n",
    "with open('src/configs/one_batch.json', 'r') as fd:\n",
    "    config_json = json.load(fd)\n",
    "\n",
    "config_parser = ConfigParser(config=config_json)"
   ]
  },
  {
   "cell_type": "code",
   "execution_count": 3,
   "metadata": {},
   "outputs": [
    {
     "name": "stderr",
     "output_type": "stream",
     "text": [
      "/home/dzhunk/University/dl-audio/hifi-gan/.venv/lib/python3.10/site-packages/tqdm/auto.py:21: TqdmWarning: IProgress not found. Please update jupyter and ipywidgets. See https://ipywidgets.readthedocs.io/en/stable/user_install.html\n",
      "  from .autonotebook import tqdm as notebook_tqdm\n"
     ]
    }
   ],
   "source": [
    "from src.utils.object_loading import get_dataloaders\n",
    "\n",
    "dataloaders = get_dataloaders(config_parser)"
   ]
  },
  {
   "cell_type": "code",
   "execution_count": 4,
   "metadata": {},
   "outputs": [],
   "source": [
    "batch = next(iter(dataloaders['train']))"
   ]
  },
  {
   "cell_type": "code",
   "execution_count": 5,
   "metadata": {},
   "outputs": [
    {
     "data": {
      "text/plain": [
       "torch.Size([3, 80, 255])"
      ]
     },
     "execution_count": 5,
     "metadata": {},
     "output_type": "execute_result"
    }
   ],
   "source": [
    "batch['spectrogram'].size()"
   ]
  },
  {
   "cell_type": "code",
   "execution_count": 6,
   "metadata": {},
   "outputs": [
    {
     "data": {
      "text/plain": [
       "torch.Size([3, 1, 8191])"
      ]
     },
     "execution_count": 6,
     "metadata": {},
     "output_type": "execute_result"
    }
   ],
   "source": [
    "batch['wav_real'].size()"
   ]
  },
  {
   "cell_type": "code",
   "execution_count": 9,
   "metadata": {},
   "outputs": [
    {
     "data": {
      "text/plain": [
       "64.0"
      ]
     },
     "execution_count": 9,
     "metadata": {},
     "output_type": "execute_result"
    }
   ],
   "source": [
    "256 / (2 ** 2)"
   ]
  },
  {
   "cell_type": "code",
   "execution_count": 7,
   "metadata": {},
   "outputs": [
    {
     "name": "stderr",
     "output_type": "stream",
     "text": [
      "/home/dzhunk/University/dl-audio/hifi-gan/.venv/lib/python3.10/site-packages/torch/nn/utils/weight_norm.py:30: UserWarning: torch.nn.utils.weight_norm is deprecated in favor of torch.nn.utils.parametrizations.weight_norm.\n",
      "  warnings.warn(\"torch.nn.utils.weight_norm is deprecated in favor of torch.nn.utils.parametrizations.weight_norm.\")\n"
     ]
    }
   ],
   "source": [
    "from src.model.generator import Generator\n",
    "\n",
    "g = Generator(\n",
    "    in_features=80,\n",
    "    k_u=[16, 16, 4, 4],\n",
    "    h_u=512, \n",
    "    k_r=[3,7,11],\n",
    "    D_r=[\n",
    "        [[1,1], [3,1], [5,1]],\n",
    "        [[1,1], [3,1], [5,1]],\n",
    "        [[1,1], [3,1], [5,1]]\n",
    "    ]\n",
    ")"
   ]
  },
  {
   "cell_type": "code",
   "execution_count": 8,
   "metadata": {},
   "outputs": [
    {
     "name": "stdout",
     "output_type": "stream",
     "text": [
      "Generator(\n",
      "  (preconv): Conv1d(80, 512, kernel_size=(7,), stride=(1,), padding=(3,))\n",
      "  (conv_transpose): ModuleList(\n",
      "    (0): ConvTranspose1d(512, 256, kernel_size=(16,), stride=(8,), padding=(4,))\n",
      "    (1): ConvTranspose1d(256, 128, kernel_size=(16,), stride=(8,), padding=(4,))\n",
      "    (2): ConvTranspose1d(128, 64, kernel_size=(4,), stride=(2,), padding=(1,))\n",
      "    (3): ConvTranspose1d(64, 32, kernel_size=(4,), stride=(2,), padding=(1,))\n",
      "  )\n",
      "  (mrf): ModuleList(\n",
      "    (0): MRF(\n",
      "      (res_blocks): ModuleList(\n",
      "        (0): ResBlock(\n",
      "          (blocks): ModuleList(\n",
      "            (0): InnerResBlock(\n",
      "              (blocks): ModuleList(\n",
      "                (0-1): 2 x Sequential(\n",
      "                  (0): LeakyReLU(negative_slope=0.01)\n",
      "                  (1): Conv1d(256, 256, kernel_size=(3,), stride=(1,), padding=same)\n",
      "                )\n",
      "              )\n",
      "            )\n",
      "            (1): InnerResBlock(\n",
      "              (blocks): ModuleList(\n",
      "                (0): Sequential(\n",
      "                  (0): LeakyReLU(negative_slope=0.01)\n",
      "                  (1): Conv1d(256, 256, kernel_size=(3,), stride=(1,), padding=same, dilation=(3,))\n",
      "                )\n",
      "                (1): Sequential(\n",
      "                  (0): LeakyReLU(negative_slope=0.01)\n",
      "                  (1): Conv1d(256, 256, kernel_size=(3,), stride=(1,), padding=same)\n",
      "                )\n",
      "              )\n",
      "            )\n",
      "            (2): InnerResBlock(\n",
      "              (blocks): ModuleList(\n",
      "                (0): Sequential(\n",
      "                  (0): LeakyReLU(negative_slope=0.01)\n",
      "                  (1): Conv1d(256, 256, kernel_size=(3,), stride=(1,), padding=same, dilation=(5,))\n",
      "                )\n",
      "                (1): Sequential(\n",
      "                  (0): LeakyReLU(negative_slope=0.01)\n",
      "                  (1): Conv1d(256, 256, kernel_size=(3,), stride=(1,), padding=same)\n",
      "                )\n",
      "              )\n",
      "            )\n",
      "          )\n",
      "        )\n",
      "        (1): ResBlock(\n",
      "          (blocks): ModuleList(\n",
      "            (0): InnerResBlock(\n",
      "              (blocks): ModuleList(\n",
      "                (0-1): 2 x Sequential(\n",
      "                  (0): LeakyReLU(negative_slope=0.01)\n",
      "                  (1): Conv1d(256, 256, kernel_size=(7,), stride=(1,), padding=same)\n",
      "                )\n",
      "              )\n",
      "            )\n",
      "            (1): InnerResBlock(\n",
      "              (blocks): ModuleList(\n",
      "                (0): Sequential(\n",
      "                  (0): LeakyReLU(negative_slope=0.01)\n",
      "                  (1): Conv1d(256, 256, kernel_size=(7,), stride=(1,), padding=same, dilation=(3,))\n",
      "                )\n",
      "                (1): Sequential(\n",
      "                  (0): LeakyReLU(negative_slope=0.01)\n",
      "                  (1): Conv1d(256, 256, kernel_size=(7,), stride=(1,), padding=same)\n",
      "                )\n",
      "              )\n",
      "            )\n",
      "            (2): InnerResBlock(\n",
      "              (blocks): ModuleList(\n",
      "                (0): Sequential(\n",
      "                  (0): LeakyReLU(negative_slope=0.01)\n",
      "                  (1): Conv1d(256, 256, kernel_size=(7,), stride=(1,), padding=same, dilation=(5,))\n",
      "                )\n",
      "                (1): Sequential(\n",
      "                  (0): LeakyReLU(negative_slope=0.01)\n",
      "                  (1): Conv1d(256, 256, kernel_size=(7,), stride=(1,), padding=same)\n",
      "                )\n",
      "              )\n",
      "            )\n",
      "          )\n",
      "        )\n",
      "        (2): ResBlock(\n",
      "          (blocks): ModuleList(\n",
      "            (0): InnerResBlock(\n",
      "              (blocks): ModuleList(\n",
      "                (0-1): 2 x Sequential(\n",
      "                  (0): LeakyReLU(negative_slope=0.01)\n",
      "                  (1): Conv1d(256, 256, kernel_size=(11,), stride=(1,), padding=same)\n",
      "                )\n",
      "              )\n",
      "            )\n",
      "            (1): InnerResBlock(\n",
      "              (blocks): ModuleList(\n",
      "                (0): Sequential(\n",
      "                  (0): LeakyReLU(negative_slope=0.01)\n",
      "                  (1): Conv1d(256, 256, kernel_size=(11,), stride=(1,), padding=same, dilation=(3,))\n",
      "                )\n",
      "                (1): Sequential(\n",
      "                  (0): LeakyReLU(negative_slope=0.01)\n",
      "                  (1): Conv1d(256, 256, kernel_size=(11,), stride=(1,), padding=same)\n",
      "                )\n",
      "              )\n",
      "            )\n",
      "            (2): InnerResBlock(\n",
      "              (blocks): ModuleList(\n",
      "                (0): Sequential(\n",
      "                  (0): LeakyReLU(negative_slope=0.01)\n",
      "                  (1): Conv1d(256, 256, kernel_size=(11,), stride=(1,), padding=same, dilation=(5,))\n",
      "                )\n",
      "                (1): Sequential(\n",
      "                  (0): LeakyReLU(negative_slope=0.01)\n",
      "                  (1): Conv1d(256, 256, kernel_size=(11,), stride=(1,), padding=same)\n",
      "                )\n",
      "              )\n",
      "            )\n",
      "          )\n",
      "        )\n",
      "      )\n",
      "    )\n",
      "    (1): MRF(\n",
      "      (res_blocks): ModuleList(\n",
      "        (0): ResBlock(\n",
      "          (blocks): ModuleList(\n",
      "            (0): InnerResBlock(\n",
      "              (blocks): ModuleList(\n",
      "                (0-1): 2 x Sequential(\n",
      "                  (0): LeakyReLU(negative_slope=0.01)\n",
      "                  (1): Conv1d(128, 128, kernel_size=(3,), stride=(1,), padding=same)\n",
      "                )\n",
      "              )\n",
      "            )\n",
      "            (1): InnerResBlock(\n",
      "              (blocks): ModuleList(\n",
      "                (0): Sequential(\n",
      "                  (0): LeakyReLU(negative_slope=0.01)\n",
      "                  (1): Conv1d(128, 128, kernel_size=(3,), stride=(1,), padding=same, dilation=(3,))\n",
      "                )\n",
      "                (1): Sequential(\n",
      "                  (0): LeakyReLU(negative_slope=0.01)\n",
      "                  (1): Conv1d(128, 128, kernel_size=(3,), stride=(1,), padding=same)\n",
      "                )\n",
      "              )\n",
      "            )\n",
      "            (2): InnerResBlock(\n",
      "              (blocks): ModuleList(\n",
      "                (0): Sequential(\n",
      "                  (0): LeakyReLU(negative_slope=0.01)\n",
      "                  (1): Conv1d(128, 128, kernel_size=(3,), stride=(1,), padding=same, dilation=(5,))\n",
      "                )\n",
      "                (1): Sequential(\n",
      "                  (0): LeakyReLU(negative_slope=0.01)\n",
      "                  (1): Conv1d(128, 128, kernel_size=(3,), stride=(1,), padding=same)\n",
      "                )\n",
      "              )\n",
      "            )\n",
      "          )\n",
      "        )\n",
      "        (1): ResBlock(\n",
      "          (blocks): ModuleList(\n",
      "            (0): InnerResBlock(\n",
      "              (blocks): ModuleList(\n",
      "                (0-1): 2 x Sequential(\n",
      "                  (0): LeakyReLU(negative_slope=0.01)\n",
      "                  (1): Conv1d(128, 128, kernel_size=(7,), stride=(1,), padding=same)\n",
      "                )\n",
      "              )\n",
      "            )\n",
      "            (1): InnerResBlock(\n",
      "              (blocks): ModuleList(\n",
      "                (0): Sequential(\n",
      "                  (0): LeakyReLU(negative_slope=0.01)\n",
      "                  (1): Conv1d(128, 128, kernel_size=(7,), stride=(1,), padding=same, dilation=(3,))\n",
      "                )\n",
      "                (1): Sequential(\n",
      "                  (0): LeakyReLU(negative_slope=0.01)\n",
      "                  (1): Conv1d(128, 128, kernel_size=(7,), stride=(1,), padding=same)\n",
      "                )\n",
      "              )\n",
      "            )\n",
      "            (2): InnerResBlock(\n",
      "              (blocks): ModuleList(\n",
      "                (0): Sequential(\n",
      "                  (0): LeakyReLU(negative_slope=0.01)\n",
      "                  (1): Conv1d(128, 128, kernel_size=(7,), stride=(1,), padding=same, dilation=(5,))\n",
      "                )\n",
      "                (1): Sequential(\n",
      "                  (0): LeakyReLU(negative_slope=0.01)\n",
      "                  (1): Conv1d(128, 128, kernel_size=(7,), stride=(1,), padding=same)\n",
      "                )\n",
      "              )\n",
      "            )\n",
      "          )\n",
      "        )\n",
      "        (2): ResBlock(\n",
      "          (blocks): ModuleList(\n",
      "            (0): InnerResBlock(\n",
      "              (blocks): ModuleList(\n",
      "                (0-1): 2 x Sequential(\n",
      "                  (0): LeakyReLU(negative_slope=0.01)\n",
      "                  (1): Conv1d(128, 128, kernel_size=(11,), stride=(1,), padding=same)\n",
      "                )\n",
      "              )\n",
      "            )\n",
      "            (1): InnerResBlock(\n",
      "              (blocks): ModuleList(\n",
      "                (0): Sequential(\n",
      "                  (0): LeakyReLU(negative_slope=0.01)\n",
      "                  (1): Conv1d(128, 128, kernel_size=(11,), stride=(1,), padding=same, dilation=(3,))\n",
      "                )\n",
      "                (1): Sequential(\n",
      "                  (0): LeakyReLU(negative_slope=0.01)\n",
      "                  (1): Conv1d(128, 128, kernel_size=(11,), stride=(1,), padding=same)\n",
      "                )\n",
      "              )\n",
      "            )\n",
      "            (2): InnerResBlock(\n",
      "              (blocks): ModuleList(\n",
      "                (0): Sequential(\n",
      "                  (0): LeakyReLU(negative_slope=0.01)\n",
      "                  (1): Conv1d(128, 128, kernel_size=(11,), stride=(1,), padding=same, dilation=(5,))\n",
      "                )\n",
      "                (1): Sequential(\n",
      "                  (0): LeakyReLU(negative_slope=0.01)\n",
      "                  (1): Conv1d(128, 128, kernel_size=(11,), stride=(1,), padding=same)\n",
      "                )\n",
      "              )\n",
      "            )\n",
      "          )\n",
      "        )\n",
      "      )\n",
      "    )\n",
      "    (2): MRF(\n",
      "      (res_blocks): ModuleList(\n",
      "        (0): ResBlock(\n",
      "          (blocks): ModuleList(\n",
      "            (0): InnerResBlock(\n",
      "              (blocks): ModuleList(\n",
      "                (0-1): 2 x Sequential(\n",
      "                  (0): LeakyReLU(negative_slope=0.01)\n",
      "                  (1): Conv1d(64, 64, kernel_size=(3,), stride=(1,), padding=same)\n",
      "                )\n",
      "              )\n",
      "            )\n",
      "            (1): InnerResBlock(\n",
      "              (blocks): ModuleList(\n",
      "                (0): Sequential(\n",
      "                  (0): LeakyReLU(negative_slope=0.01)\n",
      "                  (1): Conv1d(64, 64, kernel_size=(3,), stride=(1,), padding=same, dilation=(3,))\n",
      "                )\n",
      "                (1): Sequential(\n",
      "                  (0): LeakyReLU(negative_slope=0.01)\n",
      "                  (1): Conv1d(64, 64, kernel_size=(3,), stride=(1,), padding=same)\n",
      "                )\n",
      "              )\n",
      "            )\n",
      "            (2): InnerResBlock(\n",
      "              (blocks): ModuleList(\n",
      "                (0): Sequential(\n",
      "                  (0): LeakyReLU(negative_slope=0.01)\n",
      "                  (1): Conv1d(64, 64, kernel_size=(3,), stride=(1,), padding=same, dilation=(5,))\n",
      "                )\n",
      "                (1): Sequential(\n",
      "                  (0): LeakyReLU(negative_slope=0.01)\n",
      "                  (1): Conv1d(64, 64, kernel_size=(3,), stride=(1,), padding=same)\n",
      "                )\n",
      "              )\n",
      "            )\n",
      "          )\n",
      "        )\n",
      "        (1): ResBlock(\n",
      "          (blocks): ModuleList(\n",
      "            (0): InnerResBlock(\n",
      "              (blocks): ModuleList(\n",
      "                (0-1): 2 x Sequential(\n",
      "                  (0): LeakyReLU(negative_slope=0.01)\n",
      "                  (1): Conv1d(64, 64, kernel_size=(7,), stride=(1,), padding=same)\n",
      "                )\n",
      "              )\n",
      "            )\n",
      "            (1): InnerResBlock(\n",
      "              (blocks): ModuleList(\n",
      "                (0): Sequential(\n",
      "                  (0): LeakyReLU(negative_slope=0.01)\n",
      "                  (1): Conv1d(64, 64, kernel_size=(7,), stride=(1,), padding=same, dilation=(3,))\n",
      "                )\n",
      "                (1): Sequential(\n",
      "                  (0): LeakyReLU(negative_slope=0.01)\n",
      "                  (1): Conv1d(64, 64, kernel_size=(7,), stride=(1,), padding=same)\n",
      "                )\n",
      "              )\n",
      "            )\n",
      "            (2): InnerResBlock(\n",
      "              (blocks): ModuleList(\n",
      "                (0): Sequential(\n",
      "                  (0): LeakyReLU(negative_slope=0.01)\n",
      "                  (1): Conv1d(64, 64, kernel_size=(7,), stride=(1,), padding=same, dilation=(5,))\n",
      "                )\n",
      "                (1): Sequential(\n",
      "                  (0): LeakyReLU(negative_slope=0.01)\n",
      "                  (1): Conv1d(64, 64, kernel_size=(7,), stride=(1,), padding=same)\n",
      "                )\n",
      "              )\n",
      "            )\n",
      "          )\n",
      "        )\n",
      "        (2): ResBlock(\n",
      "          (blocks): ModuleList(\n",
      "            (0): InnerResBlock(\n",
      "              (blocks): ModuleList(\n",
      "                (0-1): 2 x Sequential(\n",
      "                  (0): LeakyReLU(negative_slope=0.01)\n",
      "                  (1): Conv1d(64, 64, kernel_size=(11,), stride=(1,), padding=same)\n",
      "                )\n",
      "              )\n",
      "            )\n",
      "            (1): InnerResBlock(\n",
      "              (blocks): ModuleList(\n",
      "                (0): Sequential(\n",
      "                  (0): LeakyReLU(negative_slope=0.01)\n",
      "                  (1): Conv1d(64, 64, kernel_size=(11,), stride=(1,), padding=same, dilation=(3,))\n",
      "                )\n",
      "                (1): Sequential(\n",
      "                  (0): LeakyReLU(negative_slope=0.01)\n",
      "                  (1): Conv1d(64, 64, kernel_size=(11,), stride=(1,), padding=same)\n",
      "                )\n",
      "              )\n",
      "            )\n",
      "            (2): InnerResBlock(\n",
      "              (blocks): ModuleList(\n",
      "                (0): Sequential(\n",
      "                  (0): LeakyReLU(negative_slope=0.01)\n",
      "                  (1): Conv1d(64, 64, kernel_size=(11,), stride=(1,), padding=same, dilation=(5,))\n",
      "                )\n",
      "                (1): Sequential(\n",
      "                  (0): LeakyReLU(negative_slope=0.01)\n",
      "                  (1): Conv1d(64, 64, kernel_size=(11,), stride=(1,), padding=same)\n",
      "                )\n",
      "              )\n",
      "            )\n",
      "          )\n",
      "        )\n",
      "      )\n",
      "    )\n",
      "    (3): MRF(\n",
      "      (res_blocks): ModuleList(\n",
      "        (0): ResBlock(\n",
      "          (blocks): ModuleList(\n",
      "            (0): InnerResBlock(\n",
      "              (blocks): ModuleList(\n",
      "                (0-1): 2 x Sequential(\n",
      "                  (0): LeakyReLU(negative_slope=0.01)\n",
      "                  (1): Conv1d(32, 32, kernel_size=(3,), stride=(1,), padding=same)\n",
      "                )\n",
      "              )\n",
      "            )\n",
      "            (1): InnerResBlock(\n",
      "              (blocks): ModuleList(\n",
      "                (0): Sequential(\n",
      "                  (0): LeakyReLU(negative_slope=0.01)\n",
      "                  (1): Conv1d(32, 32, kernel_size=(3,), stride=(1,), padding=same, dilation=(3,))\n",
      "                )\n",
      "                (1): Sequential(\n",
      "                  (0): LeakyReLU(negative_slope=0.01)\n",
      "                  (1): Conv1d(32, 32, kernel_size=(3,), stride=(1,), padding=same)\n",
      "                )\n",
      "              )\n",
      "            )\n",
      "            (2): InnerResBlock(\n",
      "              (blocks): ModuleList(\n",
      "                (0): Sequential(\n",
      "                  (0): LeakyReLU(negative_slope=0.01)\n",
      "                  (1): Conv1d(32, 32, kernel_size=(3,), stride=(1,), padding=same, dilation=(5,))\n",
      "                )\n",
      "                (1): Sequential(\n",
      "                  (0): LeakyReLU(negative_slope=0.01)\n",
      "                  (1): Conv1d(32, 32, kernel_size=(3,), stride=(1,), padding=same)\n",
      "                )\n",
      "              )\n",
      "            )\n",
      "          )\n",
      "        )\n",
      "        (1): ResBlock(\n",
      "          (blocks): ModuleList(\n",
      "            (0): InnerResBlock(\n",
      "              (blocks): ModuleList(\n",
      "                (0-1): 2 x Sequential(\n",
      "                  (0): LeakyReLU(negative_slope=0.01)\n",
      "                  (1): Conv1d(32, 32, kernel_size=(7,), stride=(1,), padding=same)\n",
      "                )\n",
      "              )\n",
      "            )\n",
      "            (1): InnerResBlock(\n",
      "              (blocks): ModuleList(\n",
      "                (0): Sequential(\n",
      "                  (0): LeakyReLU(negative_slope=0.01)\n",
      "                  (1): Conv1d(32, 32, kernel_size=(7,), stride=(1,), padding=same, dilation=(3,))\n",
      "                )\n",
      "                (1): Sequential(\n",
      "                  (0): LeakyReLU(negative_slope=0.01)\n",
      "                  (1): Conv1d(32, 32, kernel_size=(7,), stride=(1,), padding=same)\n",
      "                )\n",
      "              )\n",
      "            )\n",
      "            (2): InnerResBlock(\n",
      "              (blocks): ModuleList(\n",
      "                (0): Sequential(\n",
      "                  (0): LeakyReLU(negative_slope=0.01)\n",
      "                  (1): Conv1d(32, 32, kernel_size=(7,), stride=(1,), padding=same, dilation=(5,))\n",
      "                )\n",
      "                (1): Sequential(\n",
      "                  (0): LeakyReLU(negative_slope=0.01)\n",
      "                  (1): Conv1d(32, 32, kernel_size=(7,), stride=(1,), padding=same)\n",
      "                )\n",
      "              )\n",
      "            )\n",
      "          )\n",
      "        )\n",
      "        (2): ResBlock(\n",
      "          (blocks): ModuleList(\n",
      "            (0): InnerResBlock(\n",
      "              (blocks): ModuleList(\n",
      "                (0-1): 2 x Sequential(\n",
      "                  (0): LeakyReLU(negative_slope=0.01)\n",
      "                  (1): Conv1d(32, 32, kernel_size=(11,), stride=(1,), padding=same)\n",
      "                )\n",
      "              )\n",
      "            )\n",
      "            (1): InnerResBlock(\n",
      "              (blocks): ModuleList(\n",
      "                (0): Sequential(\n",
      "                  (0): LeakyReLU(negative_slope=0.01)\n",
      "                  (1): Conv1d(32, 32, kernel_size=(11,), stride=(1,), padding=same, dilation=(3,))\n",
      "                )\n",
      "                (1): Sequential(\n",
      "                  (0): LeakyReLU(negative_slope=0.01)\n",
      "                  (1): Conv1d(32, 32, kernel_size=(11,), stride=(1,), padding=same)\n",
      "                )\n",
      "              )\n",
      "            )\n",
      "            (2): InnerResBlock(\n",
      "              (blocks): ModuleList(\n",
      "                (0): Sequential(\n",
      "                  (0): LeakyReLU(negative_slope=0.01)\n",
      "                  (1): Conv1d(32, 32, kernel_size=(11,), stride=(1,), padding=same, dilation=(5,))\n",
      "                )\n",
      "                (1): Sequential(\n",
      "                  (0): LeakyReLU(negative_slope=0.01)\n",
      "                  (1): Conv1d(32, 32, kernel_size=(11,), stride=(1,), padding=same)\n",
      "                )\n",
      "              )\n",
      "            )\n",
      "          )\n",
      "        )\n",
      "      )\n",
      "    )\n",
      "  )\n",
      "  (leaky_relu): LeakyReLU(negative_slope=0.01)\n",
      "  (post_conv): Conv1d(32, 1, kernel_size=(7,), stride=(1,), padding=(3,))\n",
      "  (tanh): Tanh()\n",
      ")\n",
      "Trainable parameters: 13936130\n"
     ]
    }
   ],
   "source": [
    "print(g)"
   ]
  },
  {
   "cell_type": "code",
   "execution_count": 9,
   "metadata": {},
   "outputs": [],
   "source": [
    "gen_output = g(batch['spectrogram'])"
   ]
  },
  {
   "cell_type": "code",
   "execution_count": 10,
   "metadata": {},
   "outputs": [
    {
     "data": {
      "text/plain": [
       "torch.Size([3, 1, 65280])"
      ]
     },
     "execution_count": 10,
     "metadata": {},
     "output_type": "execute_result"
    }
   ],
   "source": [
    "gen_output.size()"
   ]
  },
  {
   "cell_type": "code",
   "execution_count": 11,
   "metadata": {},
   "outputs": [],
   "source": [
    "gen_output = gen_output[:, :, :-1]"
   ]
  },
  {
   "cell_type": "code",
   "execution_count": 12,
   "metadata": {},
   "outputs": [
    {
     "data": {
      "text/plain": [
       "torch.Size([3, 1, 65279])"
      ]
     },
     "execution_count": 12,
     "metadata": {},
     "output_type": "execute_result"
    },
    {
     "ename": "",
     "evalue": "",
     "output_type": "error",
     "traceback": [
      "\u001b[1;31mThe Kernel crashed while executing code in the the current cell or a previous cell. Please review the code in the cell(s) to identify a possible cause of the failure. Click <a href='https://aka.ms/vscodeJupyterKernelCrash'>here</a> for more info. View Jupyter <a href='command:jupyter.viewOutput'>log</a> for further details."
     ]
    }
   ],
   "source": [
    "gen_output.size()"
   ]
  },
  {
   "cell_type": "code",
   "execution_count": null,
   "metadata": {},
   "outputs": [],
   "source": [
    "from src.model.discriminator import MPD, MSD\n",
    "\n",
    "mpd = MPD()\n",
    "msd = MSD()"
   ]
  },
  {
   "cell_type": "code",
   "execution_count": null,
   "metadata": {},
   "outputs": [
    {
     "data": {
      "text/plain": [
       "torch.Size([3, 1, 8191])"
      ]
     },
     "execution_count": 14,
     "metadata": {},
     "output_type": "execute_result"
    }
   ],
   "source": [
    "batch['wav_real'].size()"
   ]
  },
  {
   "cell_type": "code",
   "execution_count": null,
   "metadata": {},
   "outputs": [
    {
     "name": "stdout",
     "output_type": "stream",
     "text": [
      "Before: torch.Size([3, 1, 8191])\n",
      "After: torch.Size([3, 990])\n",
      "Before: torch.Size([3, 1, 8191])\n",
      "After: torch.Size([3, 644])\n",
      "Before: torch.Size([3, 1, 8191])\n",
      "After: torch.Size([3, 375])\n",
      "Before: torch.Size([3, 1, 8191])\n",
      "After: torch.Size([3, 243])\n",
      "Before: torch.Size([3, 1, 8191])\n",
      "After: torch.Size([3, 124])\n",
      "===\n",
      "torch.Size([3, 990])\n",
      "torch.Size([3, 644])\n",
      "torch.Size([3, 375])\n",
      "torch.Size([3, 243])\n",
      "torch.Size([3, 124])\n"
     ]
    }
   ],
   "source": [
    "mpd_real_out, mpd_real_fmaps = mpd(batch['wav_real'])\n",
    "print('===')\n",
    "for o in mpd_real_out:\n",
    "    print(o.size())"
   ]
  },
  {
   "cell_type": "code",
   "execution_count": null,
   "metadata": {},
   "outputs": [
    {
     "name": "stdout",
     "output_type": "stream",
     "text": [
      "Before: torch.Size([3, 1, 8191])\n",
      "After: torch.Size([3, 990])\n",
      "Before: torch.Size([3, 1, 8191])\n",
      "After: torch.Size([3, 644])\n",
      "Before: torch.Size([3, 1, 8191])\n",
      "After: torch.Size([3, 375])\n",
      "Before: torch.Size([3, 1, 8191])\n",
      "After: torch.Size([3, 243])\n",
      "Before: torch.Size([3, 1, 8191])\n",
      "After: torch.Size([3, 124])\n",
      "===\n",
      "torch.Size([3, 990])\n",
      "torch.Size([3, 644])\n",
      "torch.Size([3, 375])\n",
      "torch.Size([3, 243])\n",
      "torch.Size([3, 124])\n"
     ]
    }
   ],
   "source": [
    "mpd_gen_out, mpd_gen_fmaps = mpd(gen_output)\n",
    "print('===')\n",
    "for o in mpd_gen_out:\n",
    "    print(o.size())"
   ]
  },
  {
   "cell_type": "code",
   "execution_count": null,
   "metadata": {},
   "outputs": [
    {
     "name": "stdout",
     "output_type": "stream",
     "text": [
      "===\n",
      "torch.Size([3, 128])\n",
      "torch.Size([3, 64])\n",
      "torch.Size([3, 33])\n"
     ]
    }
   ],
   "source": [
    "msd_real_out, msd_real_fmaps = msd(batch['wav_real'])\n",
    "print('===')\n",
    "for o in msd_real_out:\n",
    "    print(o.size())"
   ]
  },
  {
   "cell_type": "code",
   "execution_count": null,
   "metadata": {},
   "outputs": [
    {
     "name": "stdout",
     "output_type": "stream",
     "text": [
      "===\n",
      "torch.Size([3, 128])\n",
      "torch.Size([3, 64])\n",
      "torch.Size([3, 33])\n"
     ]
    }
   ],
   "source": [
    "msd_gen_out, msd_gen_fmaps = msd(gen_output)\n",
    "print('===')\n",
    "for o in msd_gen_out:\n",
    "    print(o.size())"
   ]
  },
  {
   "cell_type": "code",
   "execution_count": null,
   "metadata": {},
   "outputs": [],
   "source": [
    "from src.loss.gan_loss import GLoss, DLoss"
   ]
  },
  {
   "cell_type": "code",
   "execution_count": null,
   "metadata": {},
   "outputs": [
    {
     "data": {
      "text/plain": [
       "tensor(28.4476, grad_fn=<AddBackward0>)"
      ]
     },
     "execution_count": 20,
     "metadata": {},
     "output_type": "execute_result"
    }
   ],
   "source": [
    "generator_loss = GLoss(\n",
    "    mel_config={\n",
    "        \"sample_rate\": 22050,\n",
    "        \"win_length\": 1024,\n",
    "        \"hop_length\": 256,\n",
    "        \"n_fft\": 1024,\n",
    "        \"f_min\": 0,\n",
    "        \"f_max\": 8000,\n",
    "        \"n_mels\": 80,\n",
    "        \"power\": 1.0\n",
    "    },\n",
    "    lambda_mel=0.5,\n",
    "    lambda_fm=0.5\n",
    ")\n",
    "generator_loss(\n",
    "    wav_generated=gen_output, wav_real=batch['wav_real'], \n",
    "    mpd_features_generated=mpd_gen_fmaps, mpd_features_real=mpd_real_fmaps,\n",
    "    msd_features_generated=msd_gen_fmaps, msd_features_real=msd_real_fmaps,\n",
    "    mpd_d_out_generated=mpd_gen_out, mpd_d_out_real=mpd_real_out,\n",
    "    msd_d_out_generated=msd_gen_out, msd_d_out_real=msd_real_out\n",
    ")"
   ]
  },
  {
   "cell_type": "code",
   "execution_count": null,
   "metadata": {},
   "outputs": [
    {
     "data": {
      "text/plain": [
       "tensor(8.0743, grad_fn=<AddBackward0>)"
      ]
     },
     "execution_count": 21,
     "metadata": {},
     "output_type": "execute_result"
    }
   ],
   "source": [
    "discriminator_loss = DLoss()\n",
    "discriminator_loss(\n",
    "    msd_d_out_generated=msd_gen_out, msd_d_out_real=msd_real_out,\n",
    "    mpd_d_out_generated=mpd_gen_out, mpd_d_out_real=mpd_real_out\n",
    ")"
   ]
  },
  {
   "cell_type": "code",
   "execution_count": null,
   "metadata": {},
   "outputs": [],
   "source": []
  }
 ],
 "metadata": {
  "kernelspec": {
   "display_name": ".venv",
   "language": "python",
   "name": "python3"
  },
  "language_info": {
   "codemirror_mode": {
    "name": "ipython",
    "version": 3
   },
   "file_extension": ".py",
   "mimetype": "text/x-python",
   "name": "python",
   "nbconvert_exporter": "python",
   "pygments_lexer": "ipython3",
   "version": "3.10.12"
  }
 },
 "nbformat": 4,
 "nbformat_minor": 2
}
